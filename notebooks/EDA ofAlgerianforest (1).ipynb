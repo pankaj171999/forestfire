{
 "cells": [
  {
   "cell_type": "code",
   "execution_count": 1,
   "id": "23f5a3a0-e8e7-4cdc-835a-be8f070c92ad",
   "metadata": {},
   "outputs": [],
   "source": [
    "import pandas as pd\n",
    "import numpy as np\n",
    "import matplotlib.pyplot as plt\n",
    "import seaborn as sns\n"
   ]
  },
  {
   "cell_type": "code",
   "execution_count": 2,
   "id": "874f6641-5198-4eb0-aeee-0938d67028f9",
   "metadata": {},
   "outputs": [],
   "source": [
    "df=pd.read_csv('Algerian_forest.csv',header=1)"
   ]
  },
  {
   "cell_type": "code",
   "execution_count": 3,
   "id": "55873a7c-4ceb-41a4-988d-5f16fe1f77da",
   "metadata": {},
   "outputs": [
    {
     "data": {
      "text/html": [
       "<div>\n",
       "<style scoped>\n",
       "    .dataframe tbody tr th:only-of-type {\n",
       "        vertical-align: middle;\n",
       "    }\n",
       "\n",
       "    .dataframe tbody tr th {\n",
       "        vertical-align: top;\n",
       "    }\n",
       "\n",
       "    .dataframe thead th {\n",
       "        text-align: right;\n",
       "    }\n",
       "</style>\n",
       "<table border=\"1\" class=\"dataframe\">\n",
       "  <thead>\n",
       "    <tr style=\"text-align: right;\">\n",
       "      <th></th>\n",
       "      <th>day</th>\n",
       "      <th>month</th>\n",
       "      <th>year</th>\n",
       "      <th>Temperature</th>\n",
       "      <th>RH</th>\n",
       "      <th>Ws</th>\n",
       "      <th>Rain</th>\n",
       "      <th>FFMC</th>\n",
       "      <th>DMC</th>\n",
       "      <th>DC</th>\n",
       "      <th>ISI</th>\n",
       "      <th>BUI</th>\n",
       "      <th>FWI</th>\n",
       "      <th>Classes</th>\n",
       "    </tr>\n",
       "  </thead>\n",
       "  <tbody>\n",
       "    <tr>\n",
       "      <th>0</th>\n",
       "      <td>01</td>\n",
       "      <td>06</td>\n",
       "      <td>2012</td>\n",
       "      <td>29</td>\n",
       "      <td>57</td>\n",
       "      <td>18</td>\n",
       "      <td>0</td>\n",
       "      <td>65.7</td>\n",
       "      <td>3.4</td>\n",
       "      <td>7.6</td>\n",
       "      <td>1.3</td>\n",
       "      <td>3.4</td>\n",
       "      <td>0.5</td>\n",
       "      <td>not fire</td>\n",
       "    </tr>\n",
       "    <tr>\n",
       "      <th>1</th>\n",
       "      <td>02</td>\n",
       "      <td>06</td>\n",
       "      <td>2012</td>\n",
       "      <td>29</td>\n",
       "      <td>61</td>\n",
       "      <td>13</td>\n",
       "      <td>1.3</td>\n",
       "      <td>64.4</td>\n",
       "      <td>4.1</td>\n",
       "      <td>7.6</td>\n",
       "      <td>1</td>\n",
       "      <td>3.9</td>\n",
       "      <td>0.4</td>\n",
       "      <td>not fire</td>\n",
       "    </tr>\n",
       "    <tr>\n",
       "      <th>2</th>\n",
       "      <td>03</td>\n",
       "      <td>06</td>\n",
       "      <td>2012</td>\n",
       "      <td>26</td>\n",
       "      <td>82</td>\n",
       "      <td>22</td>\n",
       "      <td>13.1</td>\n",
       "      <td>47.1</td>\n",
       "      <td>2.5</td>\n",
       "      <td>7.1</td>\n",
       "      <td>0.3</td>\n",
       "      <td>2.7</td>\n",
       "      <td>0.1</td>\n",
       "      <td>not fire</td>\n",
       "    </tr>\n",
       "    <tr>\n",
       "      <th>3</th>\n",
       "      <td>04</td>\n",
       "      <td>06</td>\n",
       "      <td>2012</td>\n",
       "      <td>25</td>\n",
       "      <td>89</td>\n",
       "      <td>13</td>\n",
       "      <td>2.5</td>\n",
       "      <td>28.6</td>\n",
       "      <td>1.3</td>\n",
       "      <td>6.9</td>\n",
       "      <td>0</td>\n",
       "      <td>1.7</td>\n",
       "      <td>0</td>\n",
       "      <td>not fire</td>\n",
       "    </tr>\n",
       "    <tr>\n",
       "      <th>4</th>\n",
       "      <td>05</td>\n",
       "      <td>06</td>\n",
       "      <td>2012</td>\n",
       "      <td>27</td>\n",
       "      <td>77</td>\n",
       "      <td>16</td>\n",
       "      <td>0</td>\n",
       "      <td>64.8</td>\n",
       "      <td>3</td>\n",
       "      <td>14.2</td>\n",
       "      <td>1.2</td>\n",
       "      <td>3.9</td>\n",
       "      <td>0.5</td>\n",
       "      <td>not fire</td>\n",
       "    </tr>\n",
       "  </tbody>\n",
       "</table>\n",
       "</div>"
      ],
      "text/plain": [
       "  day month  year Temperature  RH  Ws Rain   FFMC  DMC    DC  ISI  BUI  FWI  \\\n",
       "0  01    06  2012          29  57  18     0  65.7  3.4   7.6  1.3  3.4  0.5   \n",
       "1  02    06  2012          29  61  13   1.3  64.4  4.1   7.6    1  3.9  0.4   \n",
       "2  03    06  2012          26  82  22  13.1  47.1  2.5   7.1  0.3  2.7  0.1   \n",
       "3  04    06  2012          25  89  13   2.5  28.6  1.3   6.9    0  1.7    0   \n",
       "4  05    06  2012          27  77  16     0  64.8    3  14.2  1.2  3.9  0.5   \n",
       "\n",
       "     Classes    \n",
       "0  not fire     \n",
       "1  not fire     \n",
       "2  not fire     \n",
       "3  not fire     \n",
       "4  not fire     "
      ]
     },
     "execution_count": 3,
     "metadata": {},
     "output_type": "execute_result"
    }
   ],
   "source": [
    "df.head(5)"
   ]
  },
  {
   "cell_type": "code",
   "execution_count": 4,
   "id": "72485dd9-3e38-4b41-8fa8-2421cf7eab83",
   "metadata": {},
   "outputs": [
    {
     "data": {
      "text/plain": [
       "day            0\n",
       "month          1\n",
       "year           1\n",
       "Temperature    1\n",
       " RH            1\n",
       " Ws            1\n",
       "Rain           1\n",
       "FFMC           1\n",
       "DMC            1\n",
       "DC             1\n",
       "ISI            1\n",
       "BUI            1\n",
       "FWI            1\n",
       "Classes        2\n",
       "dtype: int64"
      ]
     },
     "execution_count": 4,
     "metadata": {},
     "output_type": "execute_result"
    }
   ],
   "source": [
    "df.isnull().sum()"
   ]
  },
  {
   "cell_type": "code",
   "execution_count": 5,
   "id": "d588791f-9a59-40be-9d7d-86c2ca1e0fe2",
   "metadata": {},
   "outputs": [
    {
     "name": "stdout",
     "output_type": "stream",
     "text": [
      "<class 'pandas.core.frame.DataFrame'>\n",
      "RangeIndex: 246 entries, 0 to 245\n",
      "Data columns (total 14 columns):\n",
      " #   Column       Non-Null Count  Dtype \n",
      "---  ------       --------------  ----- \n",
      " 0   day          246 non-null    object\n",
      " 1   month        245 non-null    object\n",
      " 2   year         245 non-null    object\n",
      " 3   Temperature  245 non-null    object\n",
      " 4    RH          245 non-null    object\n",
      " 5    Ws          245 non-null    object\n",
      " 6   Rain         245 non-null    object\n",
      " 7   FFMC         245 non-null    object\n",
      " 8   DMC          245 non-null    object\n",
      " 9   DC           245 non-null    object\n",
      " 10  ISI          245 non-null    object\n",
      " 11  BUI          245 non-null    object\n",
      " 12  FWI          245 non-null    object\n",
      " 13  Classes      244 non-null    object\n",
      "dtypes: object(14)\n",
      "memory usage: 27.0+ KB\n"
     ]
    }
   ],
   "source": [
    "df.info()"
   ]
  },
  {
   "cell_type": "code",
   "execution_count": 6,
   "id": "dcd297aa-0229-403e-8824-4334d9c177b2",
   "metadata": {},
   "outputs": [
    {
     "data": {
      "text/html": [
       "<div>\n",
       "<style scoped>\n",
       "    .dataframe tbody tr th:only-of-type {\n",
       "        vertical-align: middle;\n",
       "    }\n",
       "\n",
       "    .dataframe tbody tr th {\n",
       "        vertical-align: top;\n",
       "    }\n",
       "\n",
       "    .dataframe thead th {\n",
       "        text-align: right;\n",
       "    }\n",
       "</style>\n",
       "<table border=\"1\" class=\"dataframe\">\n",
       "  <thead>\n",
       "    <tr style=\"text-align: right;\">\n",
       "      <th></th>\n",
       "      <th>day</th>\n",
       "      <th>month</th>\n",
       "      <th>year</th>\n",
       "      <th>Temperature</th>\n",
       "      <th>RH</th>\n",
       "      <th>Ws</th>\n",
       "      <th>Rain</th>\n",
       "      <th>FFMC</th>\n",
       "      <th>DMC</th>\n",
       "      <th>DC</th>\n",
       "      <th>ISI</th>\n",
       "      <th>BUI</th>\n",
       "      <th>FWI</th>\n",
       "      <th>Classes</th>\n",
       "    </tr>\n",
       "  </thead>\n",
       "  <tbody>\n",
       "    <tr>\n",
       "      <th>122</th>\n",
       "      <td>Sidi-Bel Abbes Region Dataset</td>\n",
       "      <td>NaN</td>\n",
       "      <td>NaN</td>\n",
       "      <td>NaN</td>\n",
       "      <td>NaN</td>\n",
       "      <td>NaN</td>\n",
       "      <td>NaN</td>\n",
       "      <td>NaN</td>\n",
       "      <td>NaN</td>\n",
       "      <td>NaN</td>\n",
       "      <td>NaN</td>\n",
       "      <td>NaN</td>\n",
       "      <td>NaN</td>\n",
       "      <td>NaN</td>\n",
       "    </tr>\n",
       "    <tr>\n",
       "      <th>167</th>\n",
       "      <td>14</td>\n",
       "      <td>07</td>\n",
       "      <td>2012</td>\n",
       "      <td>37</td>\n",
       "      <td>37</td>\n",
       "      <td>18</td>\n",
       "      <td>0.2</td>\n",
       "      <td>88.9</td>\n",
       "      <td>12.9</td>\n",
       "      <td>14.6 9</td>\n",
       "      <td>12.5</td>\n",
       "      <td>10.4</td>\n",
       "      <td>fire</td>\n",
       "      <td>NaN</td>\n",
       "    </tr>\n",
       "  </tbody>\n",
       "</table>\n",
       "</div>"
      ],
      "text/plain": [
       "                               day month  year Temperature   RH   Ws Rain   \\\n",
       "122  Sidi-Bel Abbes Region Dataset   NaN   NaN         NaN  NaN  NaN   NaN   \n",
       "167                             14    07  2012          37   37   18   0.2   \n",
       "\n",
       "     FFMC   DMC      DC   ISI   BUI      FWI Classes    \n",
       "122   NaN   NaN     NaN   NaN   NaN      NaN       NaN  \n",
       "167  88.9  12.9  14.6 9  12.5  10.4  fire          NaN  "
      ]
     },
     "execution_count": 6,
     "metadata": {},
     "output_type": "execute_result"
    }
   ],
   "source": [
    "df[df.isnull().any(axis=1)]"
   ]
  },
  {
   "cell_type": "markdown",
   "id": "e116af1a-d8fb-4707-bd28-52370c98c293",
   "metadata": {},
   "source": [
    "the dataset is converted into two based on Region from 122th index,we can make a new column based on the region\n",
    "1.'bejaia Region dataset'\n",
    "2.'sidi-bel Abbes Region dataset'"
   ]
  },
  {
   "cell_type": "code",
   "execution_count": 7,
   "id": "aca27d81-b0a6-4ba4-ae80-af0fbf73e7f8",
   "metadata": {},
   "outputs": [],
   "source": [
    "df.loc[:122,'Region']=0\n",
    "df.loc[122:,'Region']=1"
   ]
  },
  {
   "cell_type": "code",
   "execution_count": 8,
   "id": "fe3a8357-6e05-4595-9b67-3985961b66fb",
   "metadata": {},
   "outputs": [
    {
     "name": "stdout",
     "output_type": "stream",
     "text": [
      "<class 'pandas.core.frame.DataFrame'>\n",
      "RangeIndex: 246 entries, 0 to 245\n",
      "Data columns (total 15 columns):\n",
      " #   Column       Non-Null Count  Dtype  \n",
      "---  ------       --------------  -----  \n",
      " 0   day          246 non-null    object \n",
      " 1   month        245 non-null    object \n",
      " 2   year         245 non-null    object \n",
      " 3   Temperature  245 non-null    object \n",
      " 4    RH          245 non-null    object \n",
      " 5    Ws          245 non-null    object \n",
      " 6   Rain         245 non-null    object \n",
      " 7   FFMC         245 non-null    object \n",
      " 8   DMC          245 non-null    object \n",
      " 9   DC           245 non-null    object \n",
      " 10  ISI          245 non-null    object \n",
      " 11  BUI          245 non-null    object \n",
      " 12  FWI          245 non-null    object \n",
      " 13  Classes      244 non-null    object \n",
      " 14  Region       246 non-null    float64\n",
      "dtypes: float64(1), object(14)\n",
      "memory usage: 29.0+ KB\n"
     ]
    }
   ],
   "source": [
    "df.info()"
   ]
  },
  {
   "cell_type": "code",
   "execution_count": 9,
   "id": "e730ff1f-0dd2-494d-b1e1-52bfebde759e",
   "metadata": {},
   "outputs": [
    {
     "data": {
      "text/html": [
       "<div>\n",
       "<style scoped>\n",
       "    .dataframe tbody tr th:only-of-type {\n",
       "        vertical-align: middle;\n",
       "    }\n",
       "\n",
       "    .dataframe tbody tr th {\n",
       "        vertical-align: top;\n",
       "    }\n",
       "\n",
       "    .dataframe thead th {\n",
       "        text-align: right;\n",
       "    }\n",
       "</style>\n",
       "<table border=\"1\" class=\"dataframe\">\n",
       "  <thead>\n",
       "    <tr style=\"text-align: right;\">\n",
       "      <th></th>\n",
       "      <th>day</th>\n",
       "      <th>month</th>\n",
       "      <th>year</th>\n",
       "      <th>Temperature</th>\n",
       "      <th>RH</th>\n",
       "      <th>Ws</th>\n",
       "      <th>Rain</th>\n",
       "      <th>FFMC</th>\n",
       "      <th>DMC</th>\n",
       "      <th>DC</th>\n",
       "      <th>ISI</th>\n",
       "      <th>BUI</th>\n",
       "      <th>FWI</th>\n",
       "      <th>Classes</th>\n",
       "      <th>Region</th>\n",
       "    </tr>\n",
       "  </thead>\n",
       "  <tbody>\n",
       "    <tr>\n",
       "      <th>0</th>\n",
       "      <td>01</td>\n",
       "      <td>06</td>\n",
       "      <td>2012</td>\n",
       "      <td>29</td>\n",
       "      <td>57</td>\n",
       "      <td>18</td>\n",
       "      <td>0</td>\n",
       "      <td>65.7</td>\n",
       "      <td>3.4</td>\n",
       "      <td>7.6</td>\n",
       "      <td>1.3</td>\n",
       "      <td>3.4</td>\n",
       "      <td>0.5</td>\n",
       "      <td>not fire</td>\n",
       "      <td>0.0</td>\n",
       "    </tr>\n",
       "    <tr>\n",
       "      <th>1</th>\n",
       "      <td>02</td>\n",
       "      <td>06</td>\n",
       "      <td>2012</td>\n",
       "      <td>29</td>\n",
       "      <td>61</td>\n",
       "      <td>13</td>\n",
       "      <td>1.3</td>\n",
       "      <td>64.4</td>\n",
       "      <td>4.1</td>\n",
       "      <td>7.6</td>\n",
       "      <td>1</td>\n",
       "      <td>3.9</td>\n",
       "      <td>0.4</td>\n",
       "      <td>not fire</td>\n",
       "      <td>0.0</td>\n",
       "    </tr>\n",
       "    <tr>\n",
       "      <th>2</th>\n",
       "      <td>03</td>\n",
       "      <td>06</td>\n",
       "      <td>2012</td>\n",
       "      <td>26</td>\n",
       "      <td>82</td>\n",
       "      <td>22</td>\n",
       "      <td>13.1</td>\n",
       "      <td>47.1</td>\n",
       "      <td>2.5</td>\n",
       "      <td>7.1</td>\n",
       "      <td>0.3</td>\n",
       "      <td>2.7</td>\n",
       "      <td>0.1</td>\n",
       "      <td>not fire</td>\n",
       "      <td>0.0</td>\n",
       "    </tr>\n",
       "    <tr>\n",
       "      <th>3</th>\n",
       "      <td>04</td>\n",
       "      <td>06</td>\n",
       "      <td>2012</td>\n",
       "      <td>25</td>\n",
       "      <td>89</td>\n",
       "      <td>13</td>\n",
       "      <td>2.5</td>\n",
       "      <td>28.6</td>\n",
       "      <td>1.3</td>\n",
       "      <td>6.9</td>\n",
       "      <td>0</td>\n",
       "      <td>1.7</td>\n",
       "      <td>0</td>\n",
       "      <td>not fire</td>\n",
       "      <td>0.0</td>\n",
       "    </tr>\n",
       "    <tr>\n",
       "      <th>4</th>\n",
       "      <td>05</td>\n",
       "      <td>06</td>\n",
       "      <td>2012</td>\n",
       "      <td>27</td>\n",
       "      <td>77</td>\n",
       "      <td>16</td>\n",
       "      <td>0</td>\n",
       "      <td>64.8</td>\n",
       "      <td>3</td>\n",
       "      <td>14.2</td>\n",
       "      <td>1.2</td>\n",
       "      <td>3.9</td>\n",
       "      <td>0.5</td>\n",
       "      <td>not fire</td>\n",
       "      <td>0.0</td>\n",
       "    </tr>\n",
       "  </tbody>\n",
       "</table>\n",
       "</div>"
      ],
      "text/plain": [
       "  day month  year Temperature  RH  Ws Rain   FFMC  DMC    DC  ISI  BUI  FWI  \\\n",
       "0  01    06  2012          29  57  18     0  65.7  3.4   7.6  1.3  3.4  0.5   \n",
       "1  02    06  2012          29  61  13   1.3  64.4  4.1   7.6    1  3.9  0.4   \n",
       "2  03    06  2012          26  82  22  13.1  47.1  2.5   7.1  0.3  2.7  0.1   \n",
       "3  04    06  2012          25  89  13   2.5  28.6  1.3   6.9    0  1.7    0   \n",
       "4  05    06  2012          27  77  16     0  64.8    3  14.2  1.2  3.9  0.5   \n",
       "\n",
       "     Classes    Region  \n",
       "0  not fire        0.0  \n",
       "1  not fire        0.0  \n",
       "2  not fire        0.0  \n",
       "3  not fire        0.0  \n",
       "4  not fire        0.0  "
      ]
     },
     "execution_count": 9,
     "metadata": {},
     "output_type": "execute_result"
    }
   ],
   "source": [
    "df.head(5)"
   ]
  },
  {
   "cell_type": "code",
   "execution_count": 10,
   "id": "9d5acac7-c656-4c2f-83c0-37575969db6e",
   "metadata": {},
   "outputs": [],
   "source": [
    "df['Region']=df[['Region']].astype(int)"
   ]
  },
  {
   "cell_type": "code",
   "execution_count": 11,
   "id": "181a40fd-4c8c-4deb-a753-c143fbdfd3ff",
   "metadata": {},
   "outputs": [
    {
     "data": {
      "text/html": [
       "<div>\n",
       "<style scoped>\n",
       "    .dataframe tbody tr th:only-of-type {\n",
       "        vertical-align: middle;\n",
       "    }\n",
       "\n",
       "    .dataframe tbody tr th {\n",
       "        vertical-align: top;\n",
       "    }\n",
       "\n",
       "    .dataframe thead th {\n",
       "        text-align: right;\n",
       "    }\n",
       "</style>\n",
       "<table border=\"1\" class=\"dataframe\">\n",
       "  <thead>\n",
       "    <tr style=\"text-align: right;\">\n",
       "      <th></th>\n",
       "      <th>day</th>\n",
       "      <th>month</th>\n",
       "      <th>year</th>\n",
       "      <th>Temperature</th>\n",
       "      <th>RH</th>\n",
       "      <th>Ws</th>\n",
       "      <th>Rain</th>\n",
       "      <th>FFMC</th>\n",
       "      <th>DMC</th>\n",
       "      <th>DC</th>\n",
       "      <th>ISI</th>\n",
       "      <th>BUI</th>\n",
       "      <th>FWI</th>\n",
       "      <th>Classes</th>\n",
       "      <th>Region</th>\n",
       "    </tr>\n",
       "  </thead>\n",
       "  <tbody>\n",
       "    <tr>\n",
       "      <th>0</th>\n",
       "      <td>01</td>\n",
       "      <td>06</td>\n",
       "      <td>2012</td>\n",
       "      <td>29</td>\n",
       "      <td>57</td>\n",
       "      <td>18</td>\n",
       "      <td>0</td>\n",
       "      <td>65.7</td>\n",
       "      <td>3.4</td>\n",
       "      <td>7.6</td>\n",
       "      <td>1.3</td>\n",
       "      <td>3.4</td>\n",
       "      <td>0.5</td>\n",
       "      <td>not fire</td>\n",
       "      <td>0</td>\n",
       "    </tr>\n",
       "    <tr>\n",
       "      <th>1</th>\n",
       "      <td>02</td>\n",
       "      <td>06</td>\n",
       "      <td>2012</td>\n",
       "      <td>29</td>\n",
       "      <td>61</td>\n",
       "      <td>13</td>\n",
       "      <td>1.3</td>\n",
       "      <td>64.4</td>\n",
       "      <td>4.1</td>\n",
       "      <td>7.6</td>\n",
       "      <td>1</td>\n",
       "      <td>3.9</td>\n",
       "      <td>0.4</td>\n",
       "      <td>not fire</td>\n",
       "      <td>0</td>\n",
       "    </tr>\n",
       "    <tr>\n",
       "      <th>2</th>\n",
       "      <td>03</td>\n",
       "      <td>06</td>\n",
       "      <td>2012</td>\n",
       "      <td>26</td>\n",
       "      <td>82</td>\n",
       "      <td>22</td>\n",
       "      <td>13.1</td>\n",
       "      <td>47.1</td>\n",
       "      <td>2.5</td>\n",
       "      <td>7.1</td>\n",
       "      <td>0.3</td>\n",
       "      <td>2.7</td>\n",
       "      <td>0.1</td>\n",
       "      <td>not fire</td>\n",
       "      <td>0</td>\n",
       "    </tr>\n",
       "    <tr>\n",
       "      <th>3</th>\n",
       "      <td>04</td>\n",
       "      <td>06</td>\n",
       "      <td>2012</td>\n",
       "      <td>25</td>\n",
       "      <td>89</td>\n",
       "      <td>13</td>\n",
       "      <td>2.5</td>\n",
       "      <td>28.6</td>\n",
       "      <td>1.3</td>\n",
       "      <td>6.9</td>\n",
       "      <td>0</td>\n",
       "      <td>1.7</td>\n",
       "      <td>0</td>\n",
       "      <td>not fire</td>\n",
       "      <td>0</td>\n",
       "    </tr>\n",
       "    <tr>\n",
       "      <th>4</th>\n",
       "      <td>05</td>\n",
       "      <td>06</td>\n",
       "      <td>2012</td>\n",
       "      <td>27</td>\n",
       "      <td>77</td>\n",
       "      <td>16</td>\n",
       "      <td>0</td>\n",
       "      <td>64.8</td>\n",
       "      <td>3</td>\n",
       "      <td>14.2</td>\n",
       "      <td>1.2</td>\n",
       "      <td>3.9</td>\n",
       "      <td>0.5</td>\n",
       "      <td>not fire</td>\n",
       "      <td>0</td>\n",
       "    </tr>\n",
       "  </tbody>\n",
       "</table>\n",
       "</div>"
      ],
      "text/plain": [
       "  day month  year Temperature  RH  Ws Rain   FFMC  DMC    DC  ISI  BUI  FWI  \\\n",
       "0  01    06  2012          29  57  18     0  65.7  3.4   7.6  1.3  3.4  0.5   \n",
       "1  02    06  2012          29  61  13   1.3  64.4  4.1   7.6    1  3.9  0.4   \n",
       "2  03    06  2012          26  82  22  13.1  47.1  2.5   7.1  0.3  2.7  0.1   \n",
       "3  04    06  2012          25  89  13   2.5  28.6  1.3   6.9    0  1.7    0   \n",
       "4  05    06  2012          27  77  16     0  64.8    3  14.2  1.2  3.9  0.5   \n",
       "\n",
       "     Classes    Region  \n",
       "0  not fire          0  \n",
       "1  not fire          0  \n",
       "2  not fire          0  \n",
       "3  not fire          0  \n",
       "4  not fire          0  "
      ]
     },
     "execution_count": 11,
     "metadata": {},
     "output_type": "execute_result"
    }
   ],
   "source": [
    "df.head(5)"
   ]
  },
  {
   "cell_type": "code",
   "execution_count": 12,
   "id": "80f5e240-9678-4d3c-8c45-6b35cd1f424c",
   "metadata": {},
   "outputs": [
    {
     "data": {
      "text/plain": [
       "day            0\n",
       "month          1\n",
       "year           1\n",
       "Temperature    1\n",
       " RH            1\n",
       " Ws            1\n",
       "Rain           1\n",
       "FFMC           1\n",
       "DMC            1\n",
       "DC             1\n",
       "ISI            1\n",
       "BUI            1\n",
       "FWI            1\n",
       "Classes        2\n",
       "Region         0\n",
       "dtype: int64"
      ]
     },
     "execution_count": 12,
     "metadata": {},
     "output_type": "execute_result"
    }
   ],
   "source": [
    "df.isnull().sum()"
   ]
  },
  {
   "cell_type": "code",
   "execution_count": 13,
   "id": "59033e5e-4afa-4ed1-b6dd-742f981b922f",
   "metadata": {},
   "outputs": [],
   "source": [
    "#remove the null value\n",
    "df=df.dropna().reset_index(drop=True)"
   ]
  },
  {
   "cell_type": "code",
   "execution_count": 14,
   "id": "c8ec4ed1-5708-40bc-8b64-e68f22afd6f4",
   "metadata": {},
   "outputs": [
    {
     "data": {
      "text/plain": [
       "day            0\n",
       "month          0\n",
       "year           0\n",
       "Temperature    0\n",
       " RH            0\n",
       " Ws            0\n",
       "Rain           0\n",
       "FFMC           0\n",
       "DMC            0\n",
       "DC             0\n",
       "ISI            0\n",
       "BUI            0\n",
       "FWI            0\n",
       "Classes        0\n",
       "Region         0\n",
       "dtype: int64"
      ]
     },
     "execution_count": 14,
     "metadata": {},
     "output_type": "execute_result"
    }
   ],
   "source": [
    "df.isnull().sum()"
   ]
  },
  {
   "cell_type": "code",
   "execution_count": 15,
   "id": "d2c29489-2670-4901-a61e-61e8f7c5705b",
   "metadata": {},
   "outputs": [
    {
     "data": {
      "text/plain": [
       "(244, 15)"
      ]
     },
     "execution_count": 15,
     "metadata": {},
     "output_type": "execute_result"
    }
   ],
   "source": [
    "df.shape"
   ]
  },
  {
   "cell_type": "code",
   "execution_count": 16,
   "id": "2e3bec41-5fe3-49ef-8204-e44a8e9347f2",
   "metadata": {},
   "outputs": [
    {
     "data": {
      "text/html": [
       "<div>\n",
       "<style scoped>\n",
       "    .dataframe tbody tr th:only-of-type {\n",
       "        vertical-align: middle;\n",
       "    }\n",
       "\n",
       "    .dataframe tbody tr th {\n",
       "        vertical-align: top;\n",
       "    }\n",
       "\n",
       "    .dataframe thead th {\n",
       "        text-align: right;\n",
       "    }\n",
       "</style>\n",
       "<table border=\"1\" class=\"dataframe\">\n",
       "  <thead>\n",
       "    <tr style=\"text-align: right;\">\n",
       "      <th></th>\n",
       "      <th>day</th>\n",
       "      <th>month</th>\n",
       "      <th>year</th>\n",
       "      <th>Temperature</th>\n",
       "      <th>RH</th>\n",
       "      <th>Ws</th>\n",
       "      <th>Rain</th>\n",
       "      <th>FFMC</th>\n",
       "      <th>DMC</th>\n",
       "      <th>DC</th>\n",
       "      <th>ISI</th>\n",
       "      <th>BUI</th>\n",
       "      <th>FWI</th>\n",
       "      <th>Classes</th>\n",
       "      <th>Region</th>\n",
       "    </tr>\n",
       "  </thead>\n",
       "  <tbody>\n",
       "    <tr>\n",
       "      <th>122</th>\n",
       "      <td>day</td>\n",
       "      <td>month</td>\n",
       "      <td>year</td>\n",
       "      <td>Temperature</td>\n",
       "      <td>RH</td>\n",
       "      <td>Ws</td>\n",
       "      <td>Rain</td>\n",
       "      <td>FFMC</td>\n",
       "      <td>DMC</td>\n",
       "      <td>DC</td>\n",
       "      <td>ISI</td>\n",
       "      <td>BUI</td>\n",
       "      <td>FWI</td>\n",
       "      <td>Classes</td>\n",
       "      <td>1</td>\n",
       "    </tr>\n",
       "  </tbody>\n",
       "</table>\n",
       "</div>"
      ],
      "text/plain": [
       "     day  month  year  Temperature   RH   Ws  Rain   FFMC  DMC  DC  ISI  BUI  \\\n",
       "122  day  month  year  Temperature   RH   Ws  Rain   FFMC  DMC  DC  ISI  BUI   \n",
       "\n",
       "     FWI  Classes    Region  \n",
       "122  FWI  Classes         1  "
      ]
     },
     "execution_count": 16,
     "metadata": {},
     "output_type": "execute_result"
    }
   ],
   "source": [
    "df.iloc[[122]]"
   ]
  },
  {
   "cell_type": "code",
   "execution_count": 17,
   "id": "7ffe8998-10af-4557-aa86-53e2249b0545",
   "metadata": {},
   "outputs": [],
   "source": [
    "df=df.drop(122).reset_index(drop=True)"
   ]
  },
  {
   "cell_type": "code",
   "execution_count": 19,
   "id": "f68d227e-26ad-4657-80f6-82970f19f05d",
   "metadata": {},
   "outputs": [
    {
     "data": {
      "text/html": [
       "<div>\n",
       "<style scoped>\n",
       "    .dataframe tbody tr th:only-of-type {\n",
       "        vertical-align: middle;\n",
       "    }\n",
       "\n",
       "    .dataframe tbody tr th {\n",
       "        vertical-align: top;\n",
       "    }\n",
       "\n",
       "    .dataframe thead th {\n",
       "        text-align: right;\n",
       "    }\n",
       "</style>\n",
       "<table border=\"1\" class=\"dataframe\">\n",
       "  <thead>\n",
       "    <tr style=\"text-align: right;\">\n",
       "      <th></th>\n",
       "      <th>day</th>\n",
       "      <th>month</th>\n",
       "      <th>year</th>\n",
       "      <th>Temperature</th>\n",
       "      <th>RH</th>\n",
       "      <th>Ws</th>\n",
       "      <th>Rain</th>\n",
       "      <th>FFMC</th>\n",
       "      <th>DMC</th>\n",
       "      <th>DC</th>\n",
       "      <th>ISI</th>\n",
       "      <th>BUI</th>\n",
       "      <th>FWI</th>\n",
       "      <th>Classes</th>\n",
       "      <th>Region</th>\n",
       "    </tr>\n",
       "  </thead>\n",
       "  <tbody>\n",
       "    <tr>\n",
       "      <th>122</th>\n",
       "      <td>01</td>\n",
       "      <td>06</td>\n",
       "      <td>2012</td>\n",
       "      <td>32</td>\n",
       "      <td>71</td>\n",
       "      <td>12</td>\n",
       "      <td>0.7</td>\n",
       "      <td>57.1</td>\n",
       "      <td>2.5</td>\n",
       "      <td>8.2</td>\n",
       "      <td>0.6</td>\n",
       "      <td>2.8</td>\n",
       "      <td>0.2</td>\n",
       "      <td>not fire</td>\n",
       "      <td>1</td>\n",
       "    </tr>\n",
       "  </tbody>\n",
       "</table>\n",
       "</div>"
      ],
      "text/plain": [
       "    day month  year Temperature  RH  Ws Rain   FFMC  DMC   DC  ISI  BUI  FWI  \\\n",
       "122  01    06  2012          32  71  12   0.7  57.1  2.5  8.2  0.6  2.8  0.2   \n",
       "\n",
       "       Classes    Region  \n",
       "122  not fire          1  "
      ]
     },
     "execution_count": 19,
     "metadata": {},
     "output_type": "execute_result"
    }
   ],
   "source": [
    "df.iloc[[122]]"
   ]
  },
  {
   "cell_type": "code",
   "execution_count": 20,
   "id": "0b0e0ec5-2d21-49ef-ab1c-ad593f3445cf",
   "metadata": {},
   "outputs": [
    {
     "data": {
      "text/plain": [
       "Index(['day', 'month', 'year', 'Temperature', ' RH', ' Ws', 'Rain ', 'FFMC',\n",
       "       'DMC', 'DC', 'ISI', 'BUI', 'FWI', 'Classes  ', 'Region'],\n",
       "      dtype='object')"
      ]
     },
     "execution_count": 20,
     "metadata": {},
     "output_type": "execute_result"
    }
   ],
   "source": [
    "df.columns"
   ]
  },
  {
   "cell_type": "code",
   "execution_count": 21,
   "id": "ecb1c7d1-c5a2-423d-913c-80148d3aff85",
   "metadata": {},
   "outputs": [
    {
     "data": {
      "text/plain": [
       "Index(['day', 'month', 'year', 'Temperature', 'RH', 'Ws', 'Rain', 'FFMC',\n",
       "       'DMC', 'DC', 'ISI', 'BUI', 'FWI', 'Classes', 'Region'],\n",
       "      dtype='object')"
      ]
     },
     "execution_count": 21,
     "metadata": {},
     "output_type": "execute_result"
    }
   ],
   "source": [
    "## fix spaces in columns names\n",
    "df.columns=df.columns.str.strip()\n",
    "df.columns"
   ]
  },
  {
   "cell_type": "markdown",
   "id": "3fdbc9c6-2a11-4e35-baab-8639b9f0c897",
   "metadata": {},
   "source": [
    "\n",
    "Change the required dataset in integer values"
   ]
  },
  {
   "cell_type": "code",
   "execution_count": 22,
   "id": "e23927e6-c617-45ce-a31a-dade987c1b36",
   "metadata": {},
   "outputs": [],
   "source": [
    "df[['day', 'month', 'year', 'Temperature', 'RH', 'Ws']]=df[['day', 'month', 'year', 'Temperature', 'RH', 'Ws',]].astype(int)"
   ]
  },
  {
   "cell_type": "code",
   "execution_count": 23,
   "id": "43518271-c352-43b6-acbc-0a8a82017b15",
   "metadata": {},
   "outputs": [
    {
     "name": "stdout",
     "output_type": "stream",
     "text": [
      "<class 'pandas.core.frame.DataFrame'>\n",
      "RangeIndex: 243 entries, 0 to 242\n",
      "Data columns (total 15 columns):\n",
      " #   Column       Non-Null Count  Dtype \n",
      "---  ------       --------------  ----- \n",
      " 0   day          243 non-null    int64 \n",
      " 1   month        243 non-null    int64 \n",
      " 2   year         243 non-null    int64 \n",
      " 3   Temperature  243 non-null    int64 \n",
      " 4   RH           243 non-null    int64 \n",
      " 5   Ws           243 non-null    int64 \n",
      " 6   Rain         243 non-null    object\n",
      " 7   FFMC         243 non-null    object\n",
      " 8   DMC          243 non-null    object\n",
      " 9   DC           243 non-null    object\n",
      " 10  ISI          243 non-null    object\n",
      " 11  BUI          243 non-null    object\n",
      " 12  FWI          243 non-null    object\n",
      " 13  Classes      243 non-null    object\n",
      " 14  Region       243 non-null    int64 \n",
      "dtypes: int64(7), object(8)\n",
      "memory usage: 28.6+ KB\n"
     ]
    }
   ],
   "source": [
    "df.info()"
   ]
  },
  {
   "cell_type": "markdown",
   "id": "e617701f-d9dd-4236-9c03-4a9947ff6721",
   "metadata": {},
   "source": [
    "Change the other columns to float data datatype"
   ]
  },
  {
   "cell_type": "code",
   "execution_count": 24,
   "id": "2c011668-8d1a-4703-9d4d-afebe511a66c",
   "metadata": {},
   "outputs": [],
   "source": [
    "object=[features for features in df.columns if df[features].dtypes=='O']"
   ]
  },
  {
   "cell_type": "code",
   "execution_count": 25,
   "id": "d83ea8db-b34c-44eb-be87-66dbcad63149",
   "metadata": {},
   "outputs": [
    {
     "data": {
      "text/plain": [
       "['Rain', 'FFMC', 'DMC', 'DC', 'ISI', 'BUI', 'FWI', 'Classes']"
      ]
     },
     "execution_count": 25,
     "metadata": {},
     "output_type": "execute_result"
    }
   ],
   "source": [
    "object"
   ]
  },
  {
   "cell_type": "code",
   "execution_count": 26,
   "id": "70ae19bf-8c0f-41ce-a56b-ce5862e659ad",
   "metadata": {},
   "outputs": [
    {
     "name": "stdout",
     "output_type": "stream",
     "text": [
      "<class 'pandas.core.frame.DataFrame'>\n",
      "RangeIndex: 243 entries, 0 to 242\n",
      "Data columns (total 15 columns):\n",
      " #   Column       Non-Null Count  Dtype \n",
      "---  ------       --------------  ----- \n",
      " 0   day          243 non-null    int64 \n",
      " 1   month        243 non-null    int64 \n",
      " 2   year         243 non-null    int64 \n",
      " 3   Temperature  243 non-null    int64 \n",
      " 4   RH           243 non-null    int64 \n",
      " 5   Ws           243 non-null    int64 \n",
      " 6   Rain         243 non-null    object\n",
      " 7   FFMC         243 non-null    object\n",
      " 8   DMC          243 non-null    object\n",
      " 9   DC           243 non-null    object\n",
      " 10  ISI          243 non-null    object\n",
      " 11  BUI          243 non-null    object\n",
      " 12  FWI          243 non-null    object\n",
      " 13  Classes      243 non-null    object\n",
      " 14  Region       243 non-null    int64 \n",
      "dtypes: int64(7), object(8)\n",
      "memory usage: 28.6+ KB\n"
     ]
    }
   ],
   "source": [
    "df.info()"
   ]
  },
  {
   "cell_type": "code",
   "execution_count": 30,
   "id": "1574d239-6eda-432f-b61b-580844d1aa54",
   "metadata": {},
   "outputs": [],
   "source": [
    "for i in object:\n",
    "    if i!='Classes':\n",
    "        df[i]=df[i].astype(float)\n",
    "    "
   ]
  },
  {
   "cell_type": "code",
   "execution_count": 31,
   "id": "751d7c4b-e9e7-4510-b856-a7cf2debc11e",
   "metadata": {},
   "outputs": [
    {
     "name": "stdout",
     "output_type": "stream",
     "text": [
      "<class 'pandas.core.frame.DataFrame'>\n",
      "RangeIndex: 243 entries, 0 to 242\n",
      "Data columns (total 15 columns):\n",
      " #   Column       Non-Null Count  Dtype  \n",
      "---  ------       --------------  -----  \n",
      " 0   day          243 non-null    int64  \n",
      " 1   month        243 non-null    int64  \n",
      " 2   year         243 non-null    int64  \n",
      " 3   Temperature  243 non-null    int64  \n",
      " 4   RH           243 non-null    int64  \n",
      " 5   Ws           243 non-null    int64  \n",
      " 6   Rain         243 non-null    float64\n",
      " 7   FFMC         243 non-null    float64\n",
      " 8   DMC          243 non-null    float64\n",
      " 9   DC           243 non-null    float64\n",
      " 10  ISI          243 non-null    float64\n",
      " 11  BUI          243 non-null    float64\n",
      " 12  FWI          243 non-null    float64\n",
      " 13  Classes      243 non-null    object \n",
      " 14  Region       243 non-null    int64  \n",
      "dtypes: float64(7), int64(7), object(1)\n",
      "memory usage: 28.6+ KB\n"
     ]
    }
   ],
   "source": [
    "df.info()"
   ]
  },
  {
   "cell_type": "code",
   "execution_count": 32,
   "id": "aa27e202-9300-4bd8-9ceb-d7cf436c720b",
   "metadata": {},
   "outputs": [
    {
     "data": {
      "text/html": [
       "<div>\n",
       "<style scoped>\n",
       "    .dataframe tbody tr th:only-of-type {\n",
       "        vertical-align: middle;\n",
       "    }\n",
       "\n",
       "    .dataframe tbody tr th {\n",
       "        vertical-align: top;\n",
       "    }\n",
       "\n",
       "    .dataframe thead th {\n",
       "        text-align: right;\n",
       "    }\n",
       "</style>\n",
       "<table border=\"1\" class=\"dataframe\">\n",
       "  <thead>\n",
       "    <tr style=\"text-align: right;\">\n",
       "      <th></th>\n",
       "      <th>day</th>\n",
       "      <th>month</th>\n",
       "      <th>year</th>\n",
       "      <th>Temperature</th>\n",
       "      <th>RH</th>\n",
       "      <th>Ws</th>\n",
       "      <th>Rain</th>\n",
       "      <th>FFMC</th>\n",
       "      <th>DMC</th>\n",
       "      <th>DC</th>\n",
       "      <th>ISI</th>\n",
       "      <th>BUI</th>\n",
       "      <th>FWI</th>\n",
       "      <th>Region</th>\n",
       "    </tr>\n",
       "  </thead>\n",
       "  <tbody>\n",
       "    <tr>\n",
       "      <th>count</th>\n",
       "      <td>243.000000</td>\n",
       "      <td>243.000000</td>\n",
       "      <td>243.0</td>\n",
       "      <td>243.000000</td>\n",
       "      <td>243.000000</td>\n",
       "      <td>243.000000</td>\n",
       "      <td>243.000000</td>\n",
       "      <td>243.000000</td>\n",
       "      <td>243.000000</td>\n",
       "      <td>243.000000</td>\n",
       "      <td>243.000000</td>\n",
       "      <td>243.000000</td>\n",
       "      <td>243.000000</td>\n",
       "      <td>243.000000</td>\n",
       "    </tr>\n",
       "    <tr>\n",
       "      <th>mean</th>\n",
       "      <td>15.761317</td>\n",
       "      <td>7.502058</td>\n",
       "      <td>2012.0</td>\n",
       "      <td>32.152263</td>\n",
       "      <td>62.041152</td>\n",
       "      <td>15.493827</td>\n",
       "      <td>0.762963</td>\n",
       "      <td>77.842387</td>\n",
       "      <td>14.680658</td>\n",
       "      <td>49.430864</td>\n",
       "      <td>4.742387</td>\n",
       "      <td>16.690535</td>\n",
       "      <td>7.035391</td>\n",
       "      <td>0.497942</td>\n",
       "    </tr>\n",
       "    <tr>\n",
       "      <th>std</th>\n",
       "      <td>8.842552</td>\n",
       "      <td>1.114793</td>\n",
       "      <td>0.0</td>\n",
       "      <td>3.628039</td>\n",
       "      <td>14.828160</td>\n",
       "      <td>2.811385</td>\n",
       "      <td>2.003207</td>\n",
       "      <td>14.349641</td>\n",
       "      <td>12.393040</td>\n",
       "      <td>47.665606</td>\n",
       "      <td>4.154234</td>\n",
       "      <td>14.228421</td>\n",
       "      <td>7.440568</td>\n",
       "      <td>0.501028</td>\n",
       "    </tr>\n",
       "    <tr>\n",
       "      <th>min</th>\n",
       "      <td>1.000000</td>\n",
       "      <td>6.000000</td>\n",
       "      <td>2012.0</td>\n",
       "      <td>22.000000</td>\n",
       "      <td>21.000000</td>\n",
       "      <td>6.000000</td>\n",
       "      <td>0.000000</td>\n",
       "      <td>28.600000</td>\n",
       "      <td>0.700000</td>\n",
       "      <td>6.900000</td>\n",
       "      <td>0.000000</td>\n",
       "      <td>1.100000</td>\n",
       "      <td>0.000000</td>\n",
       "      <td>0.000000</td>\n",
       "    </tr>\n",
       "    <tr>\n",
       "      <th>25%</th>\n",
       "      <td>8.000000</td>\n",
       "      <td>7.000000</td>\n",
       "      <td>2012.0</td>\n",
       "      <td>30.000000</td>\n",
       "      <td>52.500000</td>\n",
       "      <td>14.000000</td>\n",
       "      <td>0.000000</td>\n",
       "      <td>71.850000</td>\n",
       "      <td>5.800000</td>\n",
       "      <td>12.350000</td>\n",
       "      <td>1.400000</td>\n",
       "      <td>6.000000</td>\n",
       "      <td>0.700000</td>\n",
       "      <td>0.000000</td>\n",
       "    </tr>\n",
       "    <tr>\n",
       "      <th>50%</th>\n",
       "      <td>16.000000</td>\n",
       "      <td>8.000000</td>\n",
       "      <td>2012.0</td>\n",
       "      <td>32.000000</td>\n",
       "      <td>63.000000</td>\n",
       "      <td>15.000000</td>\n",
       "      <td>0.000000</td>\n",
       "      <td>83.300000</td>\n",
       "      <td>11.300000</td>\n",
       "      <td>33.100000</td>\n",
       "      <td>3.500000</td>\n",
       "      <td>12.400000</td>\n",
       "      <td>4.200000</td>\n",
       "      <td>0.000000</td>\n",
       "    </tr>\n",
       "    <tr>\n",
       "      <th>75%</th>\n",
       "      <td>23.000000</td>\n",
       "      <td>8.000000</td>\n",
       "      <td>2012.0</td>\n",
       "      <td>35.000000</td>\n",
       "      <td>73.500000</td>\n",
       "      <td>17.000000</td>\n",
       "      <td>0.500000</td>\n",
       "      <td>88.300000</td>\n",
       "      <td>20.800000</td>\n",
       "      <td>69.100000</td>\n",
       "      <td>7.250000</td>\n",
       "      <td>22.650000</td>\n",
       "      <td>11.450000</td>\n",
       "      <td>1.000000</td>\n",
       "    </tr>\n",
       "    <tr>\n",
       "      <th>max</th>\n",
       "      <td>31.000000</td>\n",
       "      <td>9.000000</td>\n",
       "      <td>2012.0</td>\n",
       "      <td>42.000000</td>\n",
       "      <td>90.000000</td>\n",
       "      <td>29.000000</td>\n",
       "      <td>16.800000</td>\n",
       "      <td>96.000000</td>\n",
       "      <td>65.900000</td>\n",
       "      <td>220.400000</td>\n",
       "      <td>19.000000</td>\n",
       "      <td>68.000000</td>\n",
       "      <td>31.100000</td>\n",
       "      <td>1.000000</td>\n",
       "    </tr>\n",
       "  </tbody>\n",
       "</table>\n",
       "</div>"
      ],
      "text/plain": [
       "              day       month    year  Temperature          RH          Ws  \\\n",
       "count  243.000000  243.000000   243.0   243.000000  243.000000  243.000000   \n",
       "mean    15.761317    7.502058  2012.0    32.152263   62.041152   15.493827   \n",
       "std      8.842552    1.114793     0.0     3.628039   14.828160    2.811385   \n",
       "min      1.000000    6.000000  2012.0    22.000000   21.000000    6.000000   \n",
       "25%      8.000000    7.000000  2012.0    30.000000   52.500000   14.000000   \n",
       "50%     16.000000    8.000000  2012.0    32.000000   63.000000   15.000000   \n",
       "75%     23.000000    8.000000  2012.0    35.000000   73.500000   17.000000   \n",
       "max     31.000000    9.000000  2012.0    42.000000   90.000000   29.000000   \n",
       "\n",
       "             Rain        FFMC         DMC          DC         ISI         BUI  \\\n",
       "count  243.000000  243.000000  243.000000  243.000000  243.000000  243.000000   \n",
       "mean     0.762963   77.842387   14.680658   49.430864    4.742387   16.690535   \n",
       "std      2.003207   14.349641   12.393040   47.665606    4.154234   14.228421   \n",
       "min      0.000000   28.600000    0.700000    6.900000    0.000000    1.100000   \n",
       "25%      0.000000   71.850000    5.800000   12.350000    1.400000    6.000000   \n",
       "50%      0.000000   83.300000   11.300000   33.100000    3.500000   12.400000   \n",
       "75%      0.500000   88.300000   20.800000   69.100000    7.250000   22.650000   \n",
       "max     16.800000   96.000000   65.900000  220.400000   19.000000   68.000000   \n",
       "\n",
       "              FWI      Region  \n",
       "count  243.000000  243.000000  \n",
       "mean     7.035391    0.497942  \n",
       "std      7.440568    0.501028  \n",
       "min      0.000000    0.000000  \n",
       "25%      0.700000    0.000000  \n",
       "50%      4.200000    0.000000  \n",
       "75%     11.450000    1.000000  \n",
       "max     31.100000    1.000000  "
      ]
     },
     "execution_count": 32,
     "metadata": {},
     "output_type": "execute_result"
    }
   ],
   "source": [
    "df.describe()"
   ]
  },
  {
   "cell_type": "code",
   "execution_count": 33,
   "id": "a9a90cd0-dcf6-4008-98bf-37c20dabe4da",
   "metadata": {},
   "outputs": [],
   "source": [
    "#let saving cleaning datsets\n",
    "df.to_csv('Algerian_forest_fires_cleaned-datasets.csv',index=False)"
   ]
  },
  {
   "cell_type": "markdown",
   "id": "d4f17f24-aa3b-418a-a913-d10dc7db36fd",
   "metadata": {},
   "source": [
    "EXPLORATORY DATA ANALYSIS"
   ]
  },
  {
   "cell_type": "code",
   "execution_count": 34,
   "id": "a4a04199-d436-4747-a763-fd55ab0d9557",
   "metadata": {},
   "outputs": [],
   "source": [
    "#drop day month and year\n",
    "df_copy=df.drop(['day','month','year'],axis=1)"
   ]
  },
  {
   "cell_type": "code",
   "execution_count": 35,
   "id": "1f36d19a-457f-4016-bd01-6e5f8a2ad47e",
   "metadata": {},
   "outputs": [
    {
     "data": {
      "text/html": [
       "<div>\n",
       "<style scoped>\n",
       "    .dataframe tbody tr th:only-of-type {\n",
       "        vertical-align: middle;\n",
       "    }\n",
       "\n",
       "    .dataframe tbody tr th {\n",
       "        vertical-align: top;\n",
       "    }\n",
       "\n",
       "    .dataframe thead th {\n",
       "        text-align: right;\n",
       "    }\n",
       "</style>\n",
       "<table border=\"1\" class=\"dataframe\">\n",
       "  <thead>\n",
       "    <tr style=\"text-align: right;\">\n",
       "      <th></th>\n",
       "      <th>Temperature</th>\n",
       "      <th>RH</th>\n",
       "      <th>Ws</th>\n",
       "      <th>Rain</th>\n",
       "      <th>FFMC</th>\n",
       "      <th>DMC</th>\n",
       "      <th>DC</th>\n",
       "      <th>ISI</th>\n",
       "      <th>BUI</th>\n",
       "      <th>FWI</th>\n",
       "      <th>Classes</th>\n",
       "      <th>Region</th>\n",
       "    </tr>\n",
       "  </thead>\n",
       "  <tbody>\n",
       "    <tr>\n",
       "      <th>0</th>\n",
       "      <td>29</td>\n",
       "      <td>57</td>\n",
       "      <td>18</td>\n",
       "      <td>0.0</td>\n",
       "      <td>65.7</td>\n",
       "      <td>3.4</td>\n",
       "      <td>7.6</td>\n",
       "      <td>1.3</td>\n",
       "      <td>3.4</td>\n",
       "      <td>0.5</td>\n",
       "      <td>not fire</td>\n",
       "      <td>0</td>\n",
       "    </tr>\n",
       "    <tr>\n",
       "      <th>1</th>\n",
       "      <td>29</td>\n",
       "      <td>61</td>\n",
       "      <td>13</td>\n",
       "      <td>1.3</td>\n",
       "      <td>64.4</td>\n",
       "      <td>4.1</td>\n",
       "      <td>7.6</td>\n",
       "      <td>1.0</td>\n",
       "      <td>3.9</td>\n",
       "      <td>0.4</td>\n",
       "      <td>not fire</td>\n",
       "      <td>0</td>\n",
       "    </tr>\n",
       "    <tr>\n",
       "      <th>2</th>\n",
       "      <td>26</td>\n",
       "      <td>82</td>\n",
       "      <td>22</td>\n",
       "      <td>13.1</td>\n",
       "      <td>47.1</td>\n",
       "      <td>2.5</td>\n",
       "      <td>7.1</td>\n",
       "      <td>0.3</td>\n",
       "      <td>2.7</td>\n",
       "      <td>0.1</td>\n",
       "      <td>not fire</td>\n",
       "      <td>0</td>\n",
       "    </tr>\n",
       "    <tr>\n",
       "      <th>3</th>\n",
       "      <td>25</td>\n",
       "      <td>89</td>\n",
       "      <td>13</td>\n",
       "      <td>2.5</td>\n",
       "      <td>28.6</td>\n",
       "      <td>1.3</td>\n",
       "      <td>6.9</td>\n",
       "      <td>0.0</td>\n",
       "      <td>1.7</td>\n",
       "      <td>0.0</td>\n",
       "      <td>not fire</td>\n",
       "      <td>0</td>\n",
       "    </tr>\n",
       "    <tr>\n",
       "      <th>4</th>\n",
       "      <td>27</td>\n",
       "      <td>77</td>\n",
       "      <td>16</td>\n",
       "      <td>0.0</td>\n",
       "      <td>64.8</td>\n",
       "      <td>3.0</td>\n",
       "      <td>14.2</td>\n",
       "      <td>1.2</td>\n",
       "      <td>3.9</td>\n",
       "      <td>0.5</td>\n",
       "      <td>not fire</td>\n",
       "      <td>0</td>\n",
       "    </tr>\n",
       "  </tbody>\n",
       "</table>\n",
       "</div>"
      ],
      "text/plain": [
       "   Temperature  RH  Ws  Rain  FFMC  DMC    DC  ISI  BUI  FWI      Classes  \\\n",
       "0           29  57  18   0.0  65.7  3.4   7.6  1.3  3.4  0.5  not fire      \n",
       "1           29  61  13   1.3  64.4  4.1   7.6  1.0  3.9  0.4  not fire      \n",
       "2           26  82  22  13.1  47.1  2.5   7.1  0.3  2.7  0.1  not fire      \n",
       "3           25  89  13   2.5  28.6  1.3   6.9  0.0  1.7  0.0  not fire      \n",
       "4           27  77  16   0.0  64.8  3.0  14.2  1.2  3.9  0.5  not fire      \n",
       "\n",
       "   Region  \n",
       "0       0  \n",
       "1       0  \n",
       "2       0  \n",
       "3       0  \n",
       "4       0  "
      ]
     },
     "execution_count": 35,
     "metadata": {},
     "output_type": "execute_result"
    }
   ],
   "source": [
    "df_copy.head(5)"
   ]
  },
  {
   "cell_type": "code",
   "execution_count": 36,
   "id": "347deee0-473f-434b-b04a-e6ef6c77df41",
   "metadata": {},
   "outputs": [
    {
     "data": {
      "text/plain": [
       "fire             131\n",
       "not fire         101\n",
       "fire               4\n",
       "fire               2\n",
       "not fire           2\n",
       "not fire           1\n",
       "not fire           1\n",
       "not fire           1\n",
       "Name: Classes, dtype: int64"
      ]
     },
     "execution_count": 36,
     "metadata": {},
     "output_type": "execute_result"
    }
   ],
   "source": [
    "\n",
    "#catagories in classes\n",
    "df_copy['Classes'].value_counts()"
   ]
  },
  {
   "cell_type": "code",
   "execution_count": 37,
   "id": "156da463-b4dd-49be-b59d-f5bd539c7033",
   "metadata": {},
   "outputs": [],
   "source": [
    "#Encording of the categories in classes\n",
    "df_copy['Classes']=np.where(df_copy['Classes'].str.contains('not fire'),0,1)"
   ]
  },
  {
   "cell_type": "code",
   "execution_count": 38,
   "id": "e3191107-39cd-4bb6-ad2f-576cdc8b9106",
   "metadata": {},
   "outputs": [
    {
     "data": {
      "text/html": [
       "<div>\n",
       "<style scoped>\n",
       "    .dataframe tbody tr th:only-of-type {\n",
       "        vertical-align: middle;\n",
       "    }\n",
       "\n",
       "    .dataframe tbody tr th {\n",
       "        vertical-align: top;\n",
       "    }\n",
       "\n",
       "    .dataframe thead th {\n",
       "        text-align: right;\n",
       "    }\n",
       "</style>\n",
       "<table border=\"1\" class=\"dataframe\">\n",
       "  <thead>\n",
       "    <tr style=\"text-align: right;\">\n",
       "      <th></th>\n",
       "      <th>Temperature</th>\n",
       "      <th>RH</th>\n",
       "      <th>Ws</th>\n",
       "      <th>Rain</th>\n",
       "      <th>FFMC</th>\n",
       "      <th>DMC</th>\n",
       "      <th>DC</th>\n",
       "      <th>ISI</th>\n",
       "      <th>BUI</th>\n",
       "      <th>FWI</th>\n",
       "      <th>Classes</th>\n",
       "      <th>Region</th>\n",
       "    </tr>\n",
       "  </thead>\n",
       "  <tbody>\n",
       "    <tr>\n",
       "      <th>0</th>\n",
       "      <td>29</td>\n",
       "      <td>57</td>\n",
       "      <td>18</td>\n",
       "      <td>0.0</td>\n",
       "      <td>65.7</td>\n",
       "      <td>3.4</td>\n",
       "      <td>7.6</td>\n",
       "      <td>1.3</td>\n",
       "      <td>3.4</td>\n",
       "      <td>0.5</td>\n",
       "      <td>0</td>\n",
       "      <td>0</td>\n",
       "    </tr>\n",
       "    <tr>\n",
       "      <th>1</th>\n",
       "      <td>29</td>\n",
       "      <td>61</td>\n",
       "      <td>13</td>\n",
       "      <td>1.3</td>\n",
       "      <td>64.4</td>\n",
       "      <td>4.1</td>\n",
       "      <td>7.6</td>\n",
       "      <td>1.0</td>\n",
       "      <td>3.9</td>\n",
       "      <td>0.4</td>\n",
       "      <td>0</td>\n",
       "      <td>0</td>\n",
       "    </tr>\n",
       "    <tr>\n",
       "      <th>2</th>\n",
       "      <td>26</td>\n",
       "      <td>82</td>\n",
       "      <td>22</td>\n",
       "      <td>13.1</td>\n",
       "      <td>47.1</td>\n",
       "      <td>2.5</td>\n",
       "      <td>7.1</td>\n",
       "      <td>0.3</td>\n",
       "      <td>2.7</td>\n",
       "      <td>0.1</td>\n",
       "      <td>0</td>\n",
       "      <td>0</td>\n",
       "    </tr>\n",
       "    <tr>\n",
       "      <th>3</th>\n",
       "      <td>25</td>\n",
       "      <td>89</td>\n",
       "      <td>13</td>\n",
       "      <td>2.5</td>\n",
       "      <td>28.6</td>\n",
       "      <td>1.3</td>\n",
       "      <td>6.9</td>\n",
       "      <td>0.0</td>\n",
       "      <td>1.7</td>\n",
       "      <td>0.0</td>\n",
       "      <td>0</td>\n",
       "      <td>0</td>\n",
       "    </tr>\n",
       "    <tr>\n",
       "      <th>4</th>\n",
       "      <td>27</td>\n",
       "      <td>77</td>\n",
       "      <td>16</td>\n",
       "      <td>0.0</td>\n",
       "      <td>64.8</td>\n",
       "      <td>3.0</td>\n",
       "      <td>14.2</td>\n",
       "      <td>1.2</td>\n",
       "      <td>3.9</td>\n",
       "      <td>0.5</td>\n",
       "      <td>0</td>\n",
       "      <td>0</td>\n",
       "    </tr>\n",
       "  </tbody>\n",
       "</table>\n",
       "</div>"
      ],
      "text/plain": [
       "   Temperature  RH  Ws  Rain  FFMC  DMC    DC  ISI  BUI  FWI  Classes  Region\n",
       "0           29  57  18   0.0  65.7  3.4   7.6  1.3  3.4  0.5        0       0\n",
       "1           29  61  13   1.3  64.4  4.1   7.6  1.0  3.9  0.4        0       0\n",
       "2           26  82  22  13.1  47.1  2.5   7.1  0.3  2.7  0.1        0       0\n",
       "3           25  89  13   2.5  28.6  1.3   6.9  0.0  1.7  0.0        0       0\n",
       "4           27  77  16   0.0  64.8  3.0  14.2  1.2  3.9  0.5        0       0"
      ]
     },
     "execution_count": 38,
     "metadata": {},
     "output_type": "execute_result"
    }
   ],
   "source": [
    "df_copy.head(5)"
   ]
  },
  {
   "cell_type": "code",
   "execution_count": 39,
   "id": "0a57bfff-0e41-49a1-bb33-825dd6e59b9c",
   "metadata": {},
   "outputs": [
    {
     "data": {
      "text/plain": [
       "1    137\n",
       "0    106\n",
       "Name: Classes, dtype: int64"
      ]
     },
     "execution_count": 39,
     "metadata": {},
     "output_type": "execute_result"
    }
   ],
   "source": [
    "df_copy['Classes'].value_counts()"
   ]
  },
  {
   "cell_type": "code",
   "execution_count": 40,
   "id": "158df52a-5d15-47e3-bdbf-cfa70d0b7f25",
   "metadata": {},
   "outputs": [
    {
     "name": "stderr",
     "output_type": "stream",
     "text": [
      "/tmp/ipykernel_394/2864692778.py:2: MatplotlibDeprecationWarning: The seaborn styles shipped by Matplotlib are deprecated since 3.6, as they no longer correspond to the styles shipped by seaborn. However, they will remain available as 'seaborn-v0_8-<style>'. Alternatively, directly use the seaborn API instead.\n",
      "  plt.style.use('seaborn')\n"
     ]
    },
    {
     "data": {
      "image/png": "[encoded data removed]",
      "text/plain": [
       "<Figure size 2000x1500 with 12 Axes>"
      ]
     },
     "metadata": {},
     "output_type": "display_data"
    }
   ],
   "source": [
    "#plot density plot from all features\n",
    "plt.style.use('seaborn')\n",
    "df_copy.hist(bins=50,figsize=(20,15))\n",
    "plt.show()"
   ]
  },
  {
   "cell_type": "markdown",
   "id": "23b1d6ac-1bb7-48cc-b779-c2886c1cbdec",
   "metadata": {},
   "source": [
    "Correlation"
   ]
  },
  {
   "cell_type": "code",
   "execution_count": 41,
   "id": "ff6a3881-1a62-49ad-a1b1-6dcdbbdbcf5b",
   "metadata": {},
   "outputs": [
    {
     "data": {
      "text/html": [
       "<div>\n",
       "<style scoped>\n",
       "    .dataframe tbody tr th:only-of-type {\n",
       "        vertical-align: middle;\n",
       "    }\n",
       "\n",
       "    .dataframe tbody tr th {\n",
       "        vertical-align: top;\n",
       "    }\n",
       "\n",
       "    .dataframe thead th {\n",
       "        text-align: right;\n",
       "    }\n",
       "</style>\n",
       "<table border=\"1\" class=\"dataframe\">\n",
       "  <thead>\n",
       "    <tr style=\"text-align: right;\">\n",
       "      <th></th>\n",
       "      <th>Temperature</th>\n",
       "      <th>RH</th>\n",
       "      <th>Ws</th>\n",
       "      <th>Rain</th>\n",
       "      <th>FFMC</th>\n",
       "      <th>DMC</th>\n",
       "      <th>DC</th>\n",
       "      <th>ISI</th>\n",
       "      <th>BUI</th>\n",
       "      <th>FWI</th>\n",
       "      <th>Classes</th>\n",
       "      <th>Region</th>\n",
       "    </tr>\n",
       "  </thead>\n",
       "  <tbody>\n",
       "    <tr>\n",
       "      <th>Temperature</th>\n",
       "      <td>1.000000</td>\n",
       "      <td>-0.651400</td>\n",
       "      <td>-0.284510</td>\n",
       "      <td>-0.326492</td>\n",
       "      <td>0.676568</td>\n",
       "      <td>0.485687</td>\n",
       "      <td>0.376284</td>\n",
       "      <td>0.603871</td>\n",
       "      <td>0.459789</td>\n",
       "      <td>0.566670</td>\n",
       "      <td>0.516015</td>\n",
       "      <td>0.269555</td>\n",
       "    </tr>\n",
       "    <tr>\n",
       "      <th>RH</th>\n",
       "      <td>-0.651400</td>\n",
       "      <td>1.000000</td>\n",
       "      <td>0.244048</td>\n",
       "      <td>0.222356</td>\n",
       "      <td>-0.644873</td>\n",
       "      <td>-0.408519</td>\n",
       "      <td>-0.226941</td>\n",
       "      <td>-0.686667</td>\n",
       "      <td>-0.353841</td>\n",
       "      <td>-0.580957</td>\n",
       "      <td>-0.432161</td>\n",
       "      <td>-0.402682</td>\n",
       "    </tr>\n",
       "    <tr>\n",
       "      <th>Ws</th>\n",
       "      <td>-0.284510</td>\n",
       "      <td>0.244048</td>\n",
       "      <td>1.000000</td>\n",
       "      <td>0.171506</td>\n",
       "      <td>-0.166548</td>\n",
       "      <td>-0.000721</td>\n",
       "      <td>0.079135</td>\n",
       "      <td>0.008532</td>\n",
       "      <td>0.031438</td>\n",
       "      <td>0.032368</td>\n",
       "      <td>-0.069964</td>\n",
       "      <td>-0.181160</td>\n",
       "    </tr>\n",
       "    <tr>\n",
       "      <th>Rain</th>\n",
       "      <td>-0.326492</td>\n",
       "      <td>0.222356</td>\n",
       "      <td>0.171506</td>\n",
       "      <td>1.000000</td>\n",
       "      <td>-0.543906</td>\n",
       "      <td>-0.288773</td>\n",
       "      <td>-0.298023</td>\n",
       "      <td>-0.347484</td>\n",
       "      <td>-0.299852</td>\n",
       "      <td>-0.324422</td>\n",
       "      <td>-0.379097</td>\n",
       "      <td>-0.040013</td>\n",
       "    </tr>\n",
       "    <tr>\n",
       "      <th>FFMC</th>\n",
       "      <td>0.676568</td>\n",
       "      <td>-0.644873</td>\n",
       "      <td>-0.166548</td>\n",
       "      <td>-0.543906</td>\n",
       "      <td>1.000000</td>\n",
       "      <td>0.603608</td>\n",
       "      <td>0.507397</td>\n",
       "      <td>0.740007</td>\n",
       "      <td>0.592011</td>\n",
       "      <td>0.691132</td>\n",
       "      <td>0.769492</td>\n",
       "      <td>0.222241</td>\n",
       "    </tr>\n",
       "    <tr>\n",
       "      <th>DMC</th>\n",
       "      <td>0.485687</td>\n",
       "      <td>-0.408519</td>\n",
       "      <td>-0.000721</td>\n",
       "      <td>-0.288773</td>\n",
       "      <td>0.603608</td>\n",
       "      <td>1.000000</td>\n",
       "      <td>0.875925</td>\n",
       "      <td>0.680454</td>\n",
       "      <td>0.982248</td>\n",
       "      <td>0.875864</td>\n",
       "      <td>0.585658</td>\n",
       "      <td>0.192089</td>\n",
       "    </tr>\n",
       "    <tr>\n",
       "      <th>DC</th>\n",
       "      <td>0.376284</td>\n",
       "      <td>-0.226941</td>\n",
       "      <td>0.079135</td>\n",
       "      <td>-0.298023</td>\n",
       "      <td>0.507397</td>\n",
       "      <td>0.875925</td>\n",
       "      <td>1.000000</td>\n",
       "      <td>0.508643</td>\n",
       "      <td>0.941988</td>\n",
       "      <td>0.739521</td>\n",
       "      <td>0.511123</td>\n",
       "      <td>-0.078734</td>\n",
       "    </tr>\n",
       "    <tr>\n",
       "      <th>ISI</th>\n",
       "      <td>0.603871</td>\n",
       "      <td>-0.686667</td>\n",
       "      <td>0.008532</td>\n",
       "      <td>-0.347484</td>\n",
       "      <td>0.740007</td>\n",
       "      <td>0.680454</td>\n",
       "      <td>0.508643</td>\n",
       "      <td>1.000000</td>\n",
       "      <td>0.644093</td>\n",
       "      <td>0.922895</td>\n",
       "      <td>0.735197</td>\n",
       "      <td>0.263197</td>\n",
       "    </tr>\n",
       "    <tr>\n",
       "      <th>BUI</th>\n",
       "      <td>0.459789</td>\n",
       "      <td>-0.353841</td>\n",
       "      <td>0.031438</td>\n",
       "      <td>-0.299852</td>\n",
       "      <td>0.592011</td>\n",
       "      <td>0.982248</td>\n",
       "      <td>0.941988</td>\n",
       "      <td>0.644093</td>\n",
       "      <td>1.000000</td>\n",
       "      <td>0.857973</td>\n",
       "      <td>0.586639</td>\n",
       "      <td>0.089408</td>\n",
       "    </tr>\n",
       "    <tr>\n",
       "      <th>FWI</th>\n",
       "      <td>0.566670</td>\n",
       "      <td>-0.580957</td>\n",
       "      <td>0.032368</td>\n",
       "      <td>-0.324422</td>\n",
       "      <td>0.691132</td>\n",
       "      <td>0.875864</td>\n",
       "      <td>0.739521</td>\n",
       "      <td>0.922895</td>\n",
       "      <td>0.857973</td>\n",
       "      <td>1.000000</td>\n",
       "      <td>0.719216</td>\n",
       "      <td>0.197102</td>\n",
       "    </tr>\n",
       "    <tr>\n",
       "      <th>Classes</th>\n",
       "      <td>0.516015</td>\n",
       "      <td>-0.432161</td>\n",
       "      <td>-0.069964</td>\n",
       "      <td>-0.379097</td>\n",
       "      <td>0.769492</td>\n",
       "      <td>0.585658</td>\n",
       "      <td>0.511123</td>\n",
       "      <td>0.735197</td>\n",
       "      <td>0.586639</td>\n",
       "      <td>0.719216</td>\n",
       "      <td>1.000000</td>\n",
       "      <td>0.162347</td>\n",
       "    </tr>\n",
       "    <tr>\n",
       "      <th>Region</th>\n",
       "      <td>0.269555</td>\n",
       "      <td>-0.402682</td>\n",
       "      <td>-0.181160</td>\n",
       "      <td>-0.040013</td>\n",
       "      <td>0.222241</td>\n",
       "      <td>0.192089</td>\n",
       "      <td>-0.078734</td>\n",
       "      <td>0.263197</td>\n",
       "      <td>0.089408</td>\n",
       "      <td>0.197102</td>\n",
       "      <td>0.162347</td>\n",
       "      <td>1.000000</td>\n",
       "    </tr>\n",
       "  </tbody>\n",
       "</table>\n",
       "</div>"
      ],
      "text/plain": [
       "             Temperature        RH        Ws      Rain      FFMC       DMC  \\\n",
       "Temperature     1.000000 -0.651400 -0.284510 -0.326492  0.676568  0.485687   \n",
       "RH             -0.651400  1.000000  0.244048  0.222356 -0.644873 -0.408519   \n",
       "Ws             -0.284510  0.244048  1.000000  0.171506 -0.166548 -0.000721   \n",
       "Rain           -0.326492  0.222356  0.171506  1.000000 -0.543906 -0.288773   \n",
       "FFMC            0.676568 -0.644873 -0.166548 -0.543906  1.000000  0.603608   \n",
       "DMC             0.485687 -0.408519 -0.000721 -0.288773  0.603608  1.000000   \n",
       "DC              0.376284 -0.226941  0.079135 -0.298023  0.507397  0.875925   \n",
       "ISI             0.603871 -0.686667  0.008532 -0.347484  0.740007  0.680454   \n",
       "BUI             0.459789 -0.353841  0.031438 -0.299852  0.592011  0.982248   \n",
       "FWI             0.566670 -0.580957  0.032368 -0.324422  0.691132  0.875864   \n",
       "Classes         0.516015 -0.432161 -0.069964 -0.379097  0.769492  0.585658   \n",
       "Region          0.269555 -0.402682 -0.181160 -0.040013  0.222241  0.192089   \n",
       "\n",
       "                   DC       ISI       BUI       FWI   Classes    Region  \n",
       "Temperature  0.376284  0.603871  0.459789  0.566670  0.516015  0.269555  \n",
       "RH          -0.226941 -0.686667 -0.353841 -0.580957 -0.432161 -0.402682  \n",
       "Ws           0.079135  0.008532  0.031438  0.032368 -0.069964 -0.181160  \n",
       "Rain        -0.298023 -0.347484 -0.299852 -0.324422 -0.379097 -0.040013  \n",
       "FFMC         0.507397  0.740007  0.592011  0.691132  0.769492  0.222241  \n",
       "DMC          0.875925  0.680454  0.982248  0.875864  0.585658  0.192089  \n",
       "DC           1.000000  0.508643  0.941988  0.739521  0.511123 -0.078734  \n",
       "ISI          0.508643  1.000000  0.644093  0.922895  0.735197  0.263197  \n",
       "BUI          0.941988  0.644093  1.000000  0.857973  0.586639  0.089408  \n",
       "FWI          0.739521  0.922895  0.857973  1.000000  0.719216  0.197102  \n",
       "Classes      0.511123  0.735197  0.586639  0.719216  1.000000  0.162347  \n",
       "Region      -0.078734  0.263197  0.089408  0.197102  0.162347  1.000000  "
      ]
     },
     "execution_count": 41,
     "metadata": {},
     "output_type": "execute_result"
    }
   ],
   "source": [
    "df_copy.corr()"
   ]
  },
  {
   "cell_type": "code",
   "execution_count": 42,
   "id": "b7accc97-2546-4a07-bfea-76692402b287",
   "metadata": {},
   "outputs": [
    {
     "data": {
      "text/plain": [
       "<AxesSubplot: >"
      ]
     },
     "execution_count": 42,
     "metadata": {},
     "output_type": "execute_result"
    },
    {
     "data": {
      "image/png": "[encoded data removed]",
      "text/plain": [
       "<Figure size 1200x1000 with 2 Axes>"
      ]
     },
     "metadata": {},
     "output_type": "display_data"
    }
   ],
   "source": [
    "## checking for multicollinearity\n",
    "plt.figure(figsize=(12,10))\n",
    "sns.heatmap(df_copy.corr(),annot=True)"
   ]
  },
  {
   "cell_type": "code",
   "execution_count": 43,
   "id": "3bad0fc7-ac66-4a73-8cac-0cc046155314",
   "metadata": {},
   "outputs": [
    {
     "data": {
      "text/plain": [
       "<AxesSubplot: >"
      ]
     },
     "execution_count": 43,
     "metadata": {},
     "output_type": "execute_result"
    },
    {
     "data": {
      "image/png": "[encoded data removed]",
      "text/plain": [
       "<Figure size 800x550 with 1 Axes>"
      ]
     },
     "metadata": {},
     "output_type": "display_data"
    }
   ],
   "source": [
    "## box plots\n",
    "sns.boxplot(df['FWI'],color='green')"
   ]
  },
  {
   "cell_type": "code",
   "execution_count": 44,
   "id": "bd3608a2-c2a6-404e-814e-7c4605e2934f",
   "metadata": {},
   "outputs": [
    {
     "data": {
      "text/plain": [
       "Text(0.5, 1.0, 'Fire Analysis of Sidi- Bel Regions')"
      ]
     },
     "execution_count": 44,
     "metadata": {},
     "output_type": "execute_result"
    },
    {
     "data": {
      "image/png": "[encoded data removed]",
      "text/plain": [
       "<Figure size 1300x600 with 1 Axes>"
      ]
     },
     "metadata": {},
     "output_type": "display_data"
    }
   ],
   "source": [
    "## Monthly Fire Analysis\n",
    "dftemp=df.loc[df['Region']==1]\n",
    "plt.subplots(figsize=(13,6))\n",
    "sns.set_style('whitegrid')\n",
    "sns.countplot(x='month',hue='Classes',data=df)\n",
    "plt.ylabel('Number of Fires',weight='bold')\n",
    "plt.xlabel('Months',weight='bold')\n",
    "\n",
    "plt.title(\"Fire Analysis of Sidi- Bel Regions\",weight='bold')"
   ]
  },
  {
   "cell_type": "code",
   "execution_count": 45,
   "id": "23a16c29-91a0-481c-a1e6-6a93b6908d7d",
   "metadata": {},
   "outputs": [
    {
     "data": {
      "text/plain": [
       "Text(0.5, 1.0, 'Fire Analysis of Brjaia Regions')"
      ]
     },
     "execution_count": 45,
     "metadata": {},
     "output_type": "execute_result"
    },
    {
     "data": {
      "image/png": "[encoded data removed]",
      "text/plain": [
       "<Figure size 1300x600 with 1 Axes>"
      ]
     },
     "metadata": {},
     "output_type": "display_data"
    }
   ],
   "source": [
    "## Monthly Fire Analysis\n",
    "dftemp=df.loc[df['Region']==0]\n",
    "plt.subplots(figsize=(13,6))\n",
    "sns.set_style('whitegrid')\n",
    "sns.countplot(x='month',hue='Classes',data=df)\n",
    "plt.ylabel('Number of Fires',weight='bold')\n",
    "plt.xlabel('Months',weight='bold')\n",
    "plt.title(\"Fire Analysis of Brjaia Regions\",weight='bold')"
   ]
  },
  {
   "cell_type": "markdown",
   "id": "e474ee08-4736-46f3-94cd-ad007ed90409",
   "metadata": {},
   "source": [
    "Its observed that August and September had the most number of forest fires for both regions. And from the above plot of months, we can understand few things\n",
    "\n",
    "Most of the fires happened in August and very high Fires happened in only 3 months - June, July and August.\n",
    "\n",
    "Less Fires was on September"
   ]
  },
  {
   "cell_type": "code",
   "execution_count": null,
   "id": "1ed51a6e-08bf-4255-b8c9-3286b24bb3e7",
   "metadata": {},
   "outputs": [],
   "source": []
  }
 ],
 "metadata": {
  "kernelspec": {
   "display_name": "Python 3 (ipykernel)",
   "language": "python",
   "name": "python3"
  },
  "language_info": {
   "codemirror_mode": {
    "name": "ipython",
    "version": 3
   },
   "file_extension": ".py",
   "mimetype": "text/x-python",
   "name": "python",
   "nbconvert_exporter": "python",
   "pygments_lexer": "ipython3",
   "version": "3.10.8"
  }
 },
 "nbformat": 4,
 "nbformat_minor": 5
}
